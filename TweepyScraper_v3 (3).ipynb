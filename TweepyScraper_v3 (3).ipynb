{
 "cells": [
  {
   "cell_type": "code",
   "execution_count": 1,
   "metadata": {},
   "outputs": [],
   "source": [
    "# !pip install tweepy\n",
    "import tweepy\n",
    "import pandas as pd\n",
    "import re\n",
    "import datetime\n",
    "import json\n",
    "import networkx as nx"
   ]
  },
  {
   "cell_type": "code",
   "execution_count": 2,
   "metadata": {},
   "outputs": [],
   "source": [
    "bearer_token_secret = \"AAAAAAAAAAAAAAAAAAAAAHs7ZAEAAAAAYnwSrihUO0lgPP%2FRMQ6bWca75%2FQ%3DcRldarX4ZobtwKkh4OCAFlHAljzSPER9dBMWyWQPRi2YMgnKut\"\n",
    "consumer_key = \"QMI1oDs8V9PVZYUN3eBuRXbLH\"\n",
    "consumer_secret = \"PRQe7eoJYCv0W2kwQQaackF49Q3faxm2RZXkrOOPAaNfcn4HfG\"\n",
    "access_token = \"1491499680756346880-3tfSfhtVT8tYVut5CeEDwjNahG6IDq\"\n",
    "access_token_secret = \"sZT3Z6MaHmYxJEupBXLOxGxcB8nckQGtn1MxNl8WhcIOv\""
   ]
  },
  {
   "cell_type": "code",
   "execution_count": 3,
   "metadata": {},
   "outputs": [],
   "source": [
    "auth = tweepy.OAuthHandler(consumer_key, consumer_secret)\n",
    "auth.set_access_token(access_token, access_token_secret)\n",
    "api = tweepy.API(auth,wait_on_rate_limit=True)"
   ]
  },
  {
   "cell_type": "code",
   "execution_count": 14,
   "metadata": {},
   "outputs": [],
   "source": [
    "tweet_list=tweepy.Cursor(api.search_tweets,q=\"#renewableenergy\",lang=\"en\",tweet_mode=\"extended\").items(15001)"
   ]
  },
  {
   "cell_type": "code",
   "execution_count": null,
   "metadata": {},
   "outputs": [
    {
     "name": "stderr",
     "output_type": "stream",
     "text": [
      "Rate limit reached. Sleeping for: 731\n",
      "Rate limit reached. Sleeping for: 833\n",
      "Rate limit reached. Sleeping for: 836\n",
      "Rate limit reached. Sleeping for: 868\n"
     ]
    }
   ],
   "source": [
    "tweets_json=[]\n",
    "for tweet in tweet_list:\n",
    "    tweets_json.append(tweet._json)"
   ]
  },
  {
   "cell_type": "code",
   "execution_count": null,
   "metadata": {},
   "outputs": [],
   "source": [
    "tweets_json[0]"
   ]
  },
  {
   "cell_type": "code",
   "execution_count": null,
   "metadata": {},
   "outputs": [],
   "source": [
    "len(tweets_json)"
   ]
  },
  {
   "cell_type": "code",
   "execution_count": null,
   "metadata": {},
   "outputs": [],
   "source": [
    "tweets_json[2339]"
   ]
  },
  {
   "cell_type": "code",
   "execution_count": null,
   "metadata": {},
   "outputs": [],
   "source": []
  },
  {
   "cell_type": "code",
   "execution_count": null,
   "metadata": {},
   "outputs": [],
   "source": []
  },
  {
   "cell_type": "code",
   "execution_count": null,
   "metadata": {},
   "outputs": [],
   "source": [
    "tweets_df = []\n",
    "for tweet in tweets_json:\n",
    "\n",
    "    tweet_information = {}\n",
    "\n",
    "    tweet_information['tweet_id'] = tweet['id']\n",
    "\n",
    "    tweet_information['created_date'] = str(tweet['created_at'])\n",
    "\n",
    "    tweet_information['username'] = tweet['user']['name']\n",
    "\n",
    "    try: \n",
    "        tweet_information['retweeted_username'] = tweet['retweeted_status']['user']['name']\n",
    "        tweet_information['content_type'] = 'RT'\n",
    "\n",
    "    except:\n",
    "        tweet_information['retweeted_username'] = tweet['user']['name']\n",
    "        tweet_information['content_type'] = 'Tweet (self-loop)'\n",
    "    \n",
    "    #Append list of users mentioned in tweet\n",
    "    mentioned_users = []\n",
    "    for i in tweet['entities']['user_mentions']:\n",
    "            if i['name'] not in mentioned_users:\n",
    "                mentioned_users.append(str(i['name']))\n",
    "    tweet_information['mentioned_users'] = mentioned_users\n",
    "\n",
    "    tweet_information['text'] = tweet['full_text']\n",
    "\n",
    "    tweets_df.append(tweet_information)\n",
    "\n",
    "\n",
    "df_test = pd.DataFrame(tweets_df)\n",
    "    "
   ]
  },
  {
   "cell_type": "code",
   "execution_count": null,
   "metadata": {},
   "outputs": [],
   "source": [
    "df_test"
   ]
  },
  {
   "cell_type": "code",
   "execution_count": null,
   "metadata": {},
   "outputs": [],
   "source": [
    "df_test.to_csv(r'SMA-A1-Q2_NFT.csv', index = False, header=True)\n"
   ]
  },
  {
   "cell_type": "code",
   "execution_count": null,
   "metadata": {},
   "outputs": [],
   "source": []
  },
  {
   "cell_type": "code",
   "execution_count": null,
   "metadata": {},
   "outputs": [],
   "source": [
    "df = pd.read_csv('SMA-A1-Q2_NFT.csv')"
   ]
  },
  {
   "cell_type": "code",
   "execution_count": null,
   "metadata": {},
   "outputs": [],
   "source": [
    "df = df[['username','retweeted_username']]"
   ]
  },
  {
   "cell_type": "code",
   "execution_count": null,
   "metadata": {},
   "outputs": [],
   "source": [
    "df"
   ]
  },
  {
   "cell_type": "code",
   "execution_count": null,
   "metadata": {},
   "outputs": [],
   "source": [
    "G = nx.graph\n",
    "G = nx.from_pandas_edgelist(df, 'username', 'retweeted_username')\n"
   ]
  },
  {
   "cell_type": "code",
   "execution_count": null,
   "metadata": {},
   "outputs": [],
   "source": [
    "pip install networkx"
   ]
  },
  {
   "cell_type": "code",
   "execution_count": null,
   "metadata": {},
   "outputs": [],
   "source": [
    "from matplotlib.pyplot import figure\n",
    "figure(figsize=(100, 100))\n",
    "nx.draw(G, with_labels=True)"
   ]
  },
  {
   "cell_type": "code",
   "execution_count": null,
   "metadata": {},
   "outputs": [],
   "source": [
    "betweenness = nx.betweenness_centrality(G)"
   ]
  },
  {
   "cell_type": "code",
   "execution_count": null,
   "metadata": {},
   "outputs": [],
   "source": [
    "degrees = nx.degree_centrality(G)"
   ]
  },
  {
   "cell_type": "code",
   "execution_count": null,
   "metadata": {},
   "outputs": [],
   "source": [
    "closeness = nx.closeness_centrality(G)"
   ]
  },
  {
   "cell_type": "code",
   "execution_count": null,
   "metadata": {},
   "outputs": [],
   "source": [
    "len(degrees)\n",
    "len(closeness)"
   ]
  },
  {
   "cell_type": "code",
   "execution_count": null,
   "metadata": {},
   "outputs": [],
   "source": [
    "network_metrics = pd.DataFrame([betweenness, degrees,closeness]).T"
   ]
  },
  {
   "cell_type": "code",
   "execution_count": null,
   "metadata": {},
   "outputs": [],
   "source": [
    "network_metrics"
   ]
  },
  {
   "cell_type": "code",
   "execution_count": null,
   "metadata": {},
   "outputs": [],
   "source": [
    "network_metrics.columns = ['Betweenness','Degrees','Closeness']"
   ]
  },
  {
   "cell_type": "code",
   "execution_count": null,
   "metadata": {},
   "outputs": [],
   "source": [
    "network_metrics"
   ]
  },
  {
   "cell_type": "code",
   "execution_count": null,
   "metadata": {},
   "outputs": [],
   "source": []
  }
 ],
 "metadata": {
  "interpreter": {
   "hash": "57baa5815c940fdaff4d14510622de9616cae602444507ba5d0b6727c008cbd6"
  },
  "kernelspec": {
   "display_name": "Python 3",
   "language": "python",
   "name": "python3"
  },
  "language_info": {
   "codemirror_mode": {
    "name": "ipython",
    "version": 3
   },
   "file_extension": ".py",
   "mimetype": "text/x-python",
   "name": "python",
   "nbconvert_exporter": "python",
   "pygments_lexer": "ipython3",
   "version": "3.8.8"
  }
 },
 "nbformat": 4,
 "nbformat_minor": 2
}
